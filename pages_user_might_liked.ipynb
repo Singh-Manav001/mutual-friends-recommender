{
 "cells": [
  {
   "cell_type": "code",
   "execution_count": 10,
   "id": "c9c21ffb-5810-410e-ad8d-70afd0504d02",
   "metadata": {},
   "outputs": [
    {
     "name": "stdout",
     "output_type": "stream",
     "text": [
      "Enter  user_id \n"
     ]
    },
    {
     "name": "stdin",
     "output_type": "stream",
     "text": [
      " 12\n"
     ]
    },
    {
     "name": "stdout",
     "output_type": "stream",
     "text": [
      "pages might like  for user id 12 are [112, 124, 103, 118, 126, 136, 104, 109, 101, 110, 102, 105, 115, 116, 106, 120, 107, 119, 121, 122, 123, 125, 114, 127, 128, 129, 117, 130, 131, 132, 133, 134, 135, 137, 138, 139, 140, 108, 111, 113]\n"
     ]
    }
   ],
   "source": [
    "# import json\n",
    "\n",
    "def load_data(filename):\n",
    "    with open(filename,\"r\") as f:\n",
    "        return json.load(f);\n",
    "\n",
    "\n",
    "def pages_user_liked(user_id,data):\n",
    "    user_pages={}\n",
    "    for user in data[\"users\"] :\n",
    "        user_pages[user[\"id\"]]=set(user[\"liked_pages\"])\n",
    "    if user_id not in user_pages:\n",
    "        return []\n",
    "    user_liked_pages=user_pages[user_id]\n",
    "    page_suggetion={}\n",
    "    for other_user,pages in user_pages.items():\n",
    "        if(user_id!=other_user):\n",
    "            shared_pages=user_liked_pages.intersection(pages);\n",
    "            for page in pages:\n",
    "                page_suggetion[page]=page_suggetion.get(page,0)+len(shared_pages)\n",
    "    sorted_pages=sorted(page_suggetion.items(),key=lambda x:x[1] ,reverse=True)\n",
    "    return [page_id for page_id,_ in sorted_pages]\n",
    "\n",
    "data=load_data(\"cleaned_codebook_data.json\")\n",
    "print(\"Enter  user_id \")\n",
    "user_id=int(input())\n",
    "likedPages=pages_user_liked(user_id,data);\n",
    "print(f\"pages might like  for user id {user_id} are {likedPages}\")"
   ]
  },
  {
   "cell_type": "code",
   "execution_count": null,
   "id": "2216a10c-e11b-4b35-a3a2-6fddb9e0ad0f",
   "metadata": {},
   "outputs": [],
   "source": []
  }
 ],
 "metadata": {
  "kernelspec": {
   "display_name": "Python 3 (ipykernel)",
   "language": "python",
   "name": "python3"
  },
  "language_info": {
   "codemirror_mode": {
    "name": "ipython",
    "version": 3
   },
   "file_extension": ".py",
   "mimetype": "text/x-python",
   "name": "python",
   "nbconvert_exporter": "python",
   "pygments_lexer": "ipython3",
   "version": "3.12.7"
  }
 },
 "nbformat": 4,
 "nbformat_minor": 5
}
