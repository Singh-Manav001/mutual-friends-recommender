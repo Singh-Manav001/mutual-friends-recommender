{
 "cells": [
  {
   "cell_type": "code",
   "execution_count": 59,
   "id": "1a0cb356-34dc-42a1-80d8-6030967ca8c4",
   "metadata": {},
   "outputs": [
    {
     "name": "stdout",
     "output_type": "stream",
     "text": [
      "Enter  user_id \n"
     ]
    },
    {
     "name": "stdin",
     "output_type": "stream",
     "text": [
      " 6\n"
     ]
    },
    {
     "name": "stdout",
     "output_type": "stream",
     "text": [
      "People you may know for users 6 : [21, 11, 28, 32, 15, 2, 14, 3, 38, 19, 41, 35, 42, 12]\n"
     ]
    }
   ],
   "source": [
    "import json\n",
    "def load_data(filename):\n",
    "    with open(filename,'r') as file:\n",
    "        return json.load(file)\n",
    "def find_people_you_may_know(user_id,data):\n",
    "    user_friends={}\n",
    "    for user in data['users']:\n",
    "        user_friends[user['id']]=set(user['friends'])\n",
    "    if user_id not in user_friends:\n",
    "        return []\n",
    "    direct_friends=user_friends[user_id]\n",
    "    suggestion={}\n",
    "    for friend in direct_friends:\n",
    "        for mutual in user_friends[friend]:\n",
    "            if mutual!=user_id and mutual not in direct_friends:\n",
    "                suggestion[mutual]=suggestion.get(mutual,0)+1\n",
    "    sorted_suggestion=sorted(suggestion.items(),key=lambda x:x[1],reverse=True)\n",
    "    return [uid for uid,_ in sorted_suggestion ]\n",
    "data=load_data(\"cleaned_codebook_data.json\")\n",
    "print(\"Enter  user_id \")\n",
    "user_id=int(input())\n",
    "recommendation=find_people_you_may_know(user_id,data)\n",
    "print(f\"People you may know for users {user_id} : {recommendation}\")\n",
    "\n",
    " "
   ]
  },
  {
   "cell_type": "code",
   "execution_count": null,
   "id": "28971649-0859-4259-a802-5ef5527167c0",
   "metadata": {},
   "outputs": [],
   "source": []
  }
 ],
 "metadata": {
  "kernelspec": {
   "display_name": "Python 3 (ipykernel)",
   "language": "python",
   "name": "python3"
  },
  "language_info": {
   "codemirror_mode": {
    "name": "ipython",
    "version": 3
   },
   "file_extension": ".py",
   "mimetype": "text/x-python",
   "name": "python",
   "nbconvert_exporter": "python",
   "pygments_lexer": "ipython3",
   "version": "3.12.7"
  }
 },
 "nbformat": 4,
 "nbformat_minor": 5
}
